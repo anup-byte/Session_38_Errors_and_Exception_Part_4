{
 "cells": [
  {
   "cell_type": "code",
   "execution_count": null,
   "id": "c2020825",
   "metadata": {},
   "outputs": [],
   "source": [
    "# Raising an exception\n",
    "# Custom exception/User defined exception"
   ]
  },
  {
   "cell_type": "code",
   "execution_count": 1,
   "id": "f9aa2351",
   "metadata": {},
   "outputs": [
    {
     "name": "stdout",
     "output_type": "stream",
     "text": [
      "5.0\n",
      "Result:  Divsion by zero not allowed\n"
     ]
    }
   ],
   "source": [
    "def divide(a, b):\n",
    "    if b == 0:\n",
    "        raise ZeroDivisionError(\"Divsion by zero not allowed\")\n",
    "        \n",
    "    return a/b \n",
    "\n",
    "try:\n",
    "    result = divide(10 , 2)\n",
    "    print(result)\n",
    "    \n",
    "    result = divide(10, 0)\n",
    "    print(result)\n",
    "    \n",
    "    \n",
    "except ZeroDivisionError as e:\n",
    "    print(\"Result: \" ,e)\n",
    "    \n",
    "except Exception as e:\n",
    "    print(\"General Exception\",e)\n",
    "    \n"
   ]
  },
  {
   "cell_type": "code",
   "execution_count": 2,
   "id": "fd814f1d",
   "metadata": {},
   "outputs": [
    {
     "name": "stdout",
     "output_type": "stream",
     "text": [
      "5.0\n",
      "General Exception Divsion by zero not allowed\n"
     ]
    }
   ],
   "source": [
    "def divide(a, b):\n",
    "    if b == 0:\n",
    "        raise ZeroDivisionError(\"Divsion by zero not allowed\")\n",
    "        \n",
    "    return a/b \n",
    "\n",
    "try:\n",
    "    result = divide(10 , 2)\n",
    "    print(result)\n",
    "    \n",
    "    result = divide(10, 0)\n",
    "    print(result)\n",
    "    \n",
    "    \n",
    "except Exception as e:\n",
    "    print(\"General Exception\",e)\n",
    "    \n",
    "    \n",
    "except ZeroDivisionError as e:\n",
    "    print(\"Result: \" ,e)\n",
    "    \n",
    "    \n",
    "    \n"
   ]
  },
  {
   "cell_type": "code",
   "execution_count": 3,
   "id": "39bc4107",
   "metadata": {},
   "outputs": [
    {
     "name": "stdout",
     "output_type": "stream",
     "text": [
      "5.0\n",
      "General Exception Divsion by zero not allowed\n",
      "I will always get executed \n"
     ]
    }
   ],
   "source": [
    "def divide(a, b):\n",
    "    if b == 0:\n",
    "        raise ZeroDivisionError(\"Divsion by zero not allowed\")\n",
    "        \n",
    "    return a/b \n",
    "\n",
    "try:\n",
    "    result = divide(10 , 2)\n",
    "    print(result)\n",
    "    \n",
    "    result = divide(10, 0)\n",
    "    print(result)\n",
    "    \n",
    "    \n",
    "except Exception as e:\n",
    "    print(\"General Exception\",e)\n",
    "    \n",
    "    \n",
    "except ZeroDivisionError as e:\n",
    "    print(\"Result: \" ,e)\n",
    "    \n",
    "    \n",
    "finally:\n",
    "    print(\"I will always get executed \")"
   ]
  },
  {
   "cell_type": "code",
   "execution_count": null,
   "id": "ff10747f",
   "metadata": {},
   "outputs": [],
   "source": [
    "num = input(\"Enter a number: \")\n",
    "try:\n",
    "    result = 10 / int(num)\n",
    "except ValueError:\n",
    "    print(\"Invalid input. Please enter a valid number.\")\n",
    "except ZeroDivisionError:\n",
    "    print(\"Division by zero is not allowed.\")"
   ]
  },
  {
   "cell_type": "code",
   "execution_count": null,
   "id": "7d0b6703",
   "metadata": {},
   "outputs": [],
   "source": [
    "# Assersion"
   ]
  },
  {
   "cell_type": "markdown",
   "id": "e54b1c94",
   "metadata": {},
   "source": [
    "assert condition, message \n",
    "\n",
    "If the condition evaluates to False, the assert statement raises an exception\n",
    "\n",
    "An Assertion Exception will get raised which helps us to identify bugs in my code"
   ]
  },
  {
   "cell_type": "code",
   "execution_count": 7,
   "id": "cff25521",
   "metadata": {},
   "outputs": [],
   "source": [
    "def divide(a, b):\n",
    "    assert b != 0, \"My name is Ruchi\"\n",
    "    \n",
    "    return a/b"
   ]
  },
  {
   "cell_type": "code",
   "execution_count": 8,
   "id": "0452aba2",
   "metadata": {},
   "outputs": [
    {
     "name": "stdout",
     "output_type": "stream",
     "text": [
      "Rersult 5.0\n"
     ]
    }
   ],
   "source": [
    "result = divide(10, 2)\n",
    "print(\"Rersult\", result)"
   ]
  },
  {
   "cell_type": "code",
   "execution_count": 9,
   "id": "ed4a15f0",
   "metadata": {},
   "outputs": [
    {
     "ename": "AssertionError",
     "evalue": "My name is Ruchi",
     "output_type": "error",
     "traceback": [
      "\u001b[0;31m---------------------------------------------------------------------------\u001b[0m",
      "\u001b[0;31mAssertionError\u001b[0m                            Traceback (most recent call last)",
      "Cell \u001b[0;32mIn[9], line 1\u001b[0m\n\u001b[0;32m----> 1\u001b[0m result \u001b[38;5;241m=\u001b[39m divide(\u001b[38;5;241m10\u001b[39m, \u001b[38;5;241m0\u001b[39m)\n\u001b[1;32m      2\u001b[0m \u001b[38;5;28mprint\u001b[39m(\u001b[38;5;124m\"\u001b[39m\u001b[38;5;124mThis line will not get executed\u001b[39m\u001b[38;5;124m\"\u001b[39m)\n",
      "Cell \u001b[0;32mIn[7], line 2\u001b[0m, in \u001b[0;36mdivide\u001b[0;34m(a, b)\u001b[0m\n\u001b[1;32m      1\u001b[0m \u001b[38;5;28;01mdef\u001b[39;00m \u001b[38;5;21mdivide\u001b[39m(a, b):\n\u001b[0;32m----> 2\u001b[0m     \u001b[38;5;28;01massert\u001b[39;00m b \u001b[38;5;241m!=\u001b[39m \u001b[38;5;241m0\u001b[39m, \u001b[38;5;124m\"\u001b[39m\u001b[38;5;124mMy name is Ruchi\u001b[39m\u001b[38;5;124m\"\u001b[39m\n\u001b[1;32m      4\u001b[0m     \u001b[38;5;28;01mreturn\u001b[39;00m a\u001b[38;5;241m/\u001b[39mb\n",
      "\u001b[0;31mAssertionError\u001b[0m: My name is Ruchi"
     ]
    }
   ],
   "source": [
    "result = divide(10, 0)\n",
    "print(\"This line will not get executed\")"
   ]
  },
  {
   "cell_type": "code",
   "execution_count": 10,
   "id": "a582b504",
   "metadata": {},
   "outputs": [
    {
     "name": "stdout",
     "output_type": "stream",
     "text": [
      "Both variables are not same\n"
     ]
    }
   ],
   "source": [
    "# Assert for comparing two variables\n",
    "\n",
    "try:\n",
    "    x = 1\n",
    "    y = 1\n",
    "    assert x != y, \"Both variables are not same\"\n",
    "\n",
    "except AssertionError as msg:\n",
    "    print(msg)\n",
    "    "
   ]
  },
  {
   "cell_type": "code",
   "execution_count": 11,
   "id": "6fca11e8",
   "metadata": {},
   "outputs": [],
   "source": [
    "# Assert for comparing two variables\n",
    "\n",
    "try:\n",
    "    x = 2\n",
    "    y = 1\n",
    "    assert x != y, \"Both variables are not same\"\n",
    "\n",
    "except AssertionError as msg:\n",
    "    print(msg)\n",
    "    "
   ]
  },
  {
   "cell_type": "code",
   "execution_count": 13,
   "id": "9eb04502",
   "metadata": {},
   "outputs": [
    {
     "name": "stdout",
     "output_type": "stream",
     "text": [
      "The element is a\n",
      "invalid literal for int() with base 10: 'a' this error occured\n",
      "Next check for another element in a list.\n",
      "\n",
      "The element is 0\n",
      "division by zero this error occured\n",
      "Next check for another element in a list.\n",
      "\n",
      "The element is 2\n",
      "1.0\n"
     ]
    }
   ],
   "source": [
    "# looping through list and print division of given element by itself\n",
    "\n",
    "list1 = ['a', 0, 2]\n",
    "\n",
    "for x in list1:\n",
    "    try:\n",
    "        print(\"The element is\", x)\n",
    "        \n",
    "        res = int(x)/int(x)\n",
    "        \n",
    "        break\n",
    "        \n",
    "    except Exception as e:\n",
    "        print(e , \"this error occured\")\n",
    "        print(\"Next check for another element in a list.\")\n",
    "        print()\n",
    "\n",
    "        \n",
    "print(res)        \n",
    "       "
   ]
  },
  {
   "cell_type": "code",
   "execution_count": 16,
   "id": "098fccc4",
   "metadata": {},
   "outputs": [
    {
     "name": "stdout",
     "output_type": "stream",
     "text": [
      "Enter a number: ytrfg\n",
      "Not an even number!\n"
     ]
    }
   ],
   "source": [
    "# Simple program for even number using try else assert\n",
    "\n",
    "try:\n",
    "    num = int(input(\"Enter a number: \"))\n",
    "    assert num % 2  == 0 \n",
    "\n",
    "except:\n",
    "    print(\"Not an even number!\")\n",
    "    \n",
    "else:\n",
    "    print(\"Executing else block as try block hasn't raise an exception.\")\n",
    "    "
   ]
  },
  {
   "cell_type": "code",
   "execution_count": 17,
   "id": "08e535e8",
   "metadata": {},
   "outputs": [],
   "source": [
    "# Defining function for raising exception\n",
    "\n",
    "def raise_exception(ex):\n",
    "    raise ex"
   ]
  },
  {
   "cell_type": "code",
   "execution_count": null,
   "id": "fa385592",
   "metadata": {},
   "outputs": [],
   "source": [
    "# Use lambda function with exception raise if value < 10 will raise an exception"
   ]
  },
  {
   "cell_type": "code",
   "execution_count": 18,
   "id": "f1a52647",
   "metadata": {},
   "outputs": [],
   "source": [
    "y = lambda x: 2*x if x < 10 else raise_exception(Exception(\"Value greater than 10\"))"
   ]
  },
  {
   "cell_type": "code",
   "execution_count": 19,
   "id": "a5708520",
   "metadata": {},
   "outputs": [
    {
     "data": {
      "text/plain": [
       "16"
      ]
     },
     "execution_count": 19,
     "metadata": {},
     "output_type": "execute_result"
    }
   ],
   "source": [
    "y(8)"
   ]
  },
  {
   "cell_type": "code",
   "execution_count": 20,
   "id": "ee42c0c7",
   "metadata": {},
   "outputs": [
    {
     "ename": "Exception",
     "evalue": "Value greater than 10",
     "output_type": "error",
     "traceback": [
      "\u001b[0;31m---------------------------------------------------------------------------\u001b[0m",
      "\u001b[0;31mException\u001b[0m                                 Traceback (most recent call last)",
      "Cell \u001b[0;32mIn[20], line 1\u001b[0m\n\u001b[0;32m----> 1\u001b[0m y(\u001b[38;5;241m12\u001b[39m)\n",
      "Cell \u001b[0;32mIn[18], line 1\u001b[0m, in \u001b[0;36m<lambda>\u001b[0;34m(x)\u001b[0m\n\u001b[0;32m----> 1\u001b[0m y \u001b[38;5;241m=\u001b[39m \u001b[38;5;28;01mlambda\u001b[39;00m x: \u001b[38;5;241m2\u001b[39m\u001b[38;5;241m*\u001b[39mx \u001b[38;5;28;01mif\u001b[39;00m x \u001b[38;5;241m<\u001b[39m \u001b[38;5;241m10\u001b[39m \u001b[38;5;28;01melse\u001b[39;00m raise_exception(\u001b[38;5;167;01mException\u001b[39;00m(\u001b[38;5;124m\"\u001b[39m\u001b[38;5;124mValue greater than 10\u001b[39m\u001b[38;5;124m\"\u001b[39m))\n",
      "Cell \u001b[0;32mIn[17], line 4\u001b[0m, in \u001b[0;36mraise_exception\u001b[0;34m(ex)\u001b[0m\n\u001b[1;32m      3\u001b[0m \u001b[38;5;28;01mdef\u001b[39;00m \u001b[38;5;21mraise_exception\u001b[39m(ex):\n\u001b[0;32m----> 4\u001b[0m     \u001b[38;5;28;01mraise\u001b[39;00m ex\n",
      "\u001b[0;31mException\u001b[0m: Value greater than 10"
     ]
    }
   ],
   "source": [
    "y(12)"
   ]
  },
  {
   "cell_type": "code",
   "execution_count": null,
   "id": "884d5618",
   "metadata": {},
   "outputs": [],
   "source": [
    "# defining function for finding sqrt and checking type of number\n",
    "#and raise exception if not an int/float"
   ]
  },
  {
   "cell_type": "code",
   "execution_count": 21,
   "id": "4f214710",
   "metadata": {},
   "outputs": [],
   "source": [
    "import math\n",
    "\n",
    "def find_sqrt(a):\n",
    "    if not isinstance(a,(int,float)):\n",
    "        raise TypeError(\"a must be be numeric\")\n",
    "        \n",
    "        \n",
    "    elif a < 0:\n",
    "        raise TypeError(\"a should not be negative\")\n",
    "        \n",
    "    else:\n",
    "        print(math.sqrt(a))   "
   ]
  },
  {
   "cell_type": "code",
   "execution_count": 22,
   "id": "144b618c",
   "metadata": {},
   "outputs": [
    {
     "name": "stdout",
     "output_type": "stream",
     "text": [
      "7.0\n"
     ]
    }
   ],
   "source": [
    "find_sqrt(49)"
   ]
  },
  {
   "cell_type": "code",
   "execution_count": 23,
   "id": "69e3a1fa",
   "metadata": {},
   "outputs": [
    {
     "ename": "TypeError",
     "evalue": "a must be be numeric",
     "output_type": "error",
     "traceback": [
      "\u001b[0;31m---------------------------------------------------------------------------\u001b[0m",
      "\u001b[0;31mTypeError\u001b[0m                                 Traceback (most recent call last)",
      "Cell \u001b[0;32mIn[23], line 1\u001b[0m\n\u001b[0;32m----> 1\u001b[0m find_sqrt(\u001b[38;5;124m'\u001b[39m\u001b[38;5;124mAI\u001b[39m\u001b[38;5;124m'\u001b[39m)\n",
      "Cell \u001b[0;32mIn[21], line 5\u001b[0m, in \u001b[0;36mfind_sqrt\u001b[0;34m(a)\u001b[0m\n\u001b[1;32m      3\u001b[0m \u001b[38;5;28;01mdef\u001b[39;00m \u001b[38;5;21mfind_sqrt\u001b[39m(a):\n\u001b[1;32m      4\u001b[0m     \u001b[38;5;28;01mif\u001b[39;00m \u001b[38;5;129;01mnot\u001b[39;00m \u001b[38;5;28misinstance\u001b[39m(a,(\u001b[38;5;28mint\u001b[39m,\u001b[38;5;28mfloat\u001b[39m)):\n\u001b[0;32m----> 5\u001b[0m         \u001b[38;5;28;01mraise\u001b[39;00m \u001b[38;5;167;01mTypeError\u001b[39;00m(\u001b[38;5;124m\"\u001b[39m\u001b[38;5;124ma must be be numeric\u001b[39m\u001b[38;5;124m\"\u001b[39m)\n\u001b[1;32m      8\u001b[0m     \u001b[38;5;28;01melif\u001b[39;00m a \u001b[38;5;241m<\u001b[39m \u001b[38;5;241m0\u001b[39m:\n\u001b[1;32m      9\u001b[0m         \u001b[38;5;28;01mraise\u001b[39;00m \u001b[38;5;167;01mTypeError\u001b[39;00m(\u001b[38;5;124m\"\u001b[39m\u001b[38;5;124ma should not be negative\u001b[39m\u001b[38;5;124m\"\u001b[39m)\n",
      "\u001b[0;31mTypeError\u001b[0m: a must be be numeric"
     ]
    }
   ],
   "source": [
    "find_sqrt('AI')"
   ]
  },
  {
   "cell_type": "code",
   "execution_count": 24,
   "id": "0a1cdfdb",
   "metadata": {},
   "outputs": [
    {
     "ename": "TypeError",
     "evalue": "a should not be negative",
     "output_type": "error",
     "traceback": [
      "\u001b[0;31m---------------------------------------------------------------------------\u001b[0m",
      "\u001b[0;31mTypeError\u001b[0m                                 Traceback (most recent call last)",
      "Cell \u001b[0;32mIn[24], line 1\u001b[0m\n\u001b[0;32m----> 1\u001b[0m find_sqrt(\u001b[38;5;241m-\u001b[39m\u001b[38;5;241m76\u001b[39m)\n",
      "Cell \u001b[0;32mIn[21], line 9\u001b[0m, in \u001b[0;36mfind_sqrt\u001b[0;34m(a)\u001b[0m\n\u001b[1;32m      5\u001b[0m     \u001b[38;5;28;01mraise\u001b[39;00m \u001b[38;5;167;01mTypeError\u001b[39;00m(\u001b[38;5;124m\"\u001b[39m\u001b[38;5;124ma must be be numeric\u001b[39m\u001b[38;5;124m\"\u001b[39m)\n\u001b[1;32m      8\u001b[0m \u001b[38;5;28;01melif\u001b[39;00m a \u001b[38;5;241m<\u001b[39m \u001b[38;5;241m0\u001b[39m:\n\u001b[0;32m----> 9\u001b[0m     \u001b[38;5;28;01mraise\u001b[39;00m \u001b[38;5;167;01mTypeError\u001b[39;00m(\u001b[38;5;124m\"\u001b[39m\u001b[38;5;124ma should not be negative\u001b[39m\u001b[38;5;124m\"\u001b[39m)\n\u001b[1;32m     11\u001b[0m \u001b[38;5;28;01melse\u001b[39;00m:\n\u001b[1;32m     12\u001b[0m     \u001b[38;5;28mprint\u001b[39m(math\u001b[38;5;241m.\u001b[39msqrt(a))\n",
      "\u001b[0;31mTypeError\u001b[0m: a should not be negative"
     ]
    }
   ],
   "source": [
    "find_sqrt(-76)"
   ]
  }
 ],
 "metadata": {
  "kernelspec": {
   "display_name": "Python 3 (ipykernel)",
   "language": "python",
   "name": "python3"
  },
  "language_info": {
   "codemirror_mode": {
    "name": "ipython",
    "version": 3
   },
   "file_extension": ".py",
   "mimetype": "text/x-python",
   "name": "python",
   "nbconvert_exporter": "python",
   "pygments_lexer": "ipython3",
   "version": "3.11.4"
  }
 },
 "nbformat": 4,
 "nbformat_minor": 5
}
